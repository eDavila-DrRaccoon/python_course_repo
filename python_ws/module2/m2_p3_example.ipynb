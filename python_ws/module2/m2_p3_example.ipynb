{
 "cells": [
  {
   "cell_type": "markdown",
   "id": "431da757",
   "metadata": {},
   "source": [
    "# Module 2. Part 3. `input()` function\n",
    "## Definition\n",
    "\n",
    "```python\n",
    "(function) def input(\n",
    "    prompt: object = \"\",\n",
    "    /\n",
    ") -> str\n",
    "```\n",
    "\n",
    "The `input()` function reads a line from standard input and returns it as a **string**.\n",
    "The trailing newline character is automatically removed.\n",
    "\n",
    "The prompt string, if given, is printed to standard output without a\n",
    "trailing newline before reading input.\n",
    "\n",
    "If the user hits EOF (*nix: Ctrl-D, Windows: Ctrl-Z+Return), raise EOFError.\n",
    "On *nix systems, readline is used if available.\n",
    "\n",
    "## Behavior\n",
    "\n",
    "* **Prompt**:\n",
    "  If `prompt` is provided, it is displayed on standard output *without* a trailing newline before waiting for input.\n",
    "\n",
    "  ```python\n",
    "  name = input(\"Enter your name: \")\n",
    "  ```\n",
    "\n",
    "* **Return type**:\n",
    "  Always returns a `str`, even if the user enters numbers.\n",
    "\n",
    "  ```python\n",
    "  age = input(\"Enter age: \")\n",
    "  print(type(age))  # <class 'str'>\n",
    "  ```\n",
    "\n",
    "* **End-of-File (EOF)**:\n",
    "\n",
    "  * On **Unix-like systems**: `Ctrl+D` raises `EOFError`.\n",
    "  * On **Windows**: `Ctrl+Z` + `Return` raises `EOFError`.\n",
    "\n",
    "* **Implementation detail**:\n",
    "  On Unix systems, if available, the `readline` library is used to provide line-editing and history features."
   ]
  },
  {
   "cell_type": "markdown",
   "id": "622db743",
   "metadata": {},
   "source": [
    "## Examples of usage"
   ]
  },
  {
   "cell_type": "markdown",
   "id": "d7471b58",
   "metadata": {},
   "source": [
    "1. Get user input"
   ]
  },
  {
   "cell_type": "code",
   "execution_count": null,
   "id": "72da80df",
   "metadata": {},
   "outputs": [],
   "source": [
    "input(\"Enter your first name: \")\n",
    "input(\"Enter your last name: \")"
   ]
  },
  {
   "cell_type": "markdown",
   "id": "b238042e",
   "metadata": {},
   "source": [
    "2. Display user input"
   ]
  },
  {
   "cell_type": "code",
   "execution_count": null,
   "id": "a5c33853",
   "metadata": {},
   "outputs": [
    {
     "name": "stdout",
     "output_type": "stream",
     "text": [
      "Your first name is: Eduardo\n",
      "Your last name is: Dávila\n"
     ]
    }
   ],
   "source": [
    "print(\"Your first name is:\", input(\"Enter your first name: \"))\n",
    "print(\"Your last name is:\", input(\"Enter your last name: \"))"
   ]
  }
 ],
 "metadata": {
  "kernelspec": {
   "display_name": "Python 3",
   "language": "python",
   "name": "python3"
  },
  "language_info": {
   "codemirror_mode": {
    "name": "ipython",
    "version": 3
   },
   "file_extension": ".py",
   "mimetype": "text/x-python",
   "name": "python",
   "nbconvert_exporter": "python",
   "pygments_lexer": "ipython3",
   "version": "3.10.12"
  }
 },
 "nbformat": 4,
 "nbformat_minor": 5
}
