{
 "cells": [
  {
   "cell_type": "markdown",
   "id": "431da757",
   "metadata": {},
   "source": [
    "# Module 2. Part 2. Strings\n",
    "## Exercises"
   ]
  },
  {
   "cell_type": "markdown",
   "id": "4a620408",
   "metadata": {},
   "source": [
    "1. Create a code cell that prints the following expression, but using just one print statement:\n",
    "\n",
    "```python\n",
    "1 | Line 1\n",
    "2 | Line 2 \n",
    "3 | Line 3\n",
    "```"
   ]
  },
  {
   "cell_type": "code",
   "execution_count": null,
   "id": "ed51b4e2",
   "metadata": {},
   "outputs": [],
   "source": [
    "# Here your code:"
   ]
  },
  {
   "cell_type": "markdown",
   "id": "a24f5d6a",
   "metadata": {},
   "source": [
    "2. Create a code cell that prints the following expression:\n",
    "    - Note that the horizontal spacing between numbers is created with a single tab (`\\t`).\n",
    "    - You can use more than one `print()` function.\n",
    "\n",
    "```python\n",
    "1 | A   B   C\n",
    "2 | D   E   F\n",
    "3 | G   H   I\n",
    "```"
   ]
  },
  {
   "cell_type": "code",
   "execution_count": 2,
   "id": "5ec63aee",
   "metadata": {},
   "outputs": [],
   "source": [
    "# Here your code:\n"
   ]
  },
  {
   "cell_type": "markdown",
   "id": "627acb8d",
   "metadata": {},
   "source": [
    "3. Create a code cell that prints the following expression:\n",
    "\n",
    "```python\n",
    "1 | Regular Slash: /\n",
    "2 | Backslash: \\\n",
    "```"
   ]
  },
  {
   "cell_type": "code",
   "execution_count": 3,
   "id": "4f481d36",
   "metadata": {},
   "outputs": [],
   "source": [
    "# Here your code:\n"
   ]
  },
  {
   "cell_type": "markdown",
   "id": "7111af06",
   "metadata": {},
   "source": [
    "4. Create a code cell that prints the following expressions in a single line using the concatenation operator and multiple arguments:\n",
    "    - `13 ^ 2 + 31 = ` (as text).\n",
    "    - `13 ** 2 + 31 = ` (as text).\n",
    "    - `13 ** 2 + 31` (as aritmetic operation)."
   ]
  },
  {
   "cell_type": "code",
   "execution_count": 4,
   "id": "db1f8ae6",
   "metadata": {},
   "outputs": [],
   "source": [
    "# Here your code:\n"
   ]
  },
  {
   "cell_type": "markdown",
   "id": "01e5b1b3",
   "metadata": {},
   "source": [
    "5. Create a code cell that prints the following expressions in a single line using the f-string formmating:\n",
    "    - `15 ^ 2 + 30 = ` (as text).\n",
    "    - `15 ** 2 + 30` (as aritmetic operation)."
   ]
  },
  {
   "cell_type": "code",
   "execution_count": 5,
   "id": "e674807c",
   "metadata": {},
   "outputs": [],
   "source": [
    "# Here your code:\n"
   ]
  }
 ],
 "metadata": {
  "kernelspec": {
   "display_name": "Python 3",
   "language": "python",
   "name": "python3"
  },
  "language_info": {
   "codemirror_mode": {
    "name": "ipython",
    "version": 3
   },
   "file_extension": ".py",
   "mimetype": "text/x-python",
   "name": "python",
   "nbconvert_exporter": "python",
   "pygments_lexer": "ipython3",
   "version": "3.10.12"
  }
 },
 "nbformat": 4,
 "nbformat_minor": 5
}
