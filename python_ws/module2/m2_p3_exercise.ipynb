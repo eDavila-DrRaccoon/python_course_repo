{
 "cells": [
  {
   "cell_type": "markdown",
   "id": "4a620408",
   "metadata": {},
   "source": [
    "# Module 2. Part 3. `input()` function\n",
    "## Exercises\n",
    "\n",
    "1. Create a code cell that allows the user to enter an answer by asking the following question:\n",
    "\n",
    "    `What are you studying?`"
   ]
  },
  {
   "cell_type": "code",
   "execution_count": null,
   "id": "ed51b4e2",
   "metadata": {},
   "outputs": [],
   "source": [
    "# Here your code:"
   ]
  },
  {
   "cell_type": "markdown",
   "id": "a24f5d6a",
   "metadata": {},
   "source": [
    "2. Create a code cell that allows the user to enter an answer by asking the following question:\n",
    "\n",
    "    `What country do you live in?`"
   ]
  },
  {
   "cell_type": "code",
   "execution_count": null,
   "id": "5ec63aee",
   "metadata": {},
   "outputs": [],
   "source": [
    "# Here your code:\n"
   ]
  },
  {
   "cell_type": "markdown",
   "id": "627acb8d",
   "metadata": {},
   "source": [
    "3. Create a code cell that displays the user's full name on the screen, allowing them to enter their first and last name with the following instructions:\n",
    "\n",
    "    ```python\n",
    "    1 | Enter your first name: \n",
    "    2 | Enter your last name: \n",
    "    ```\n",
    "    The code must print the user's first and last name on the screen, separated by a space."
   ]
  },
  {
   "cell_type": "code",
   "execution_count": null,
   "id": "4f481d36",
   "metadata": {},
   "outputs": [],
   "source": [
    "# Here your code:\n"
   ]
  }
 ],
 "metadata": {
  "kernelspec": {
   "display_name": "Python 3",
   "language": "python",
   "name": "python3"
  },
  "language_info": {
   "codemirror_mode": {
    "name": "ipython",
    "version": 3
   },
   "file_extension": ".py",
   "mimetype": "text/x-python",
   "name": "python",
   "nbconvert_exporter": "python",
   "pygments_lexer": "ipython3",
   "version": "3.10.12"
  }
 },
 "nbformat": 4,
 "nbformat_minor": 5
}
