{
 "cells": [
  {
   "cell_type": "markdown",
   "id": "431da757",
   "metadata": {},
   "source": [
    "# Module 2. Part 2. Strings\n",
    "## Definition\n",
    "In Python, a **string** is a sequence of characters enclosed within quotes (`'...'`, `\"...\"`, or triple quotes). Strings are immutable, meaning once created, they cannot be modified directly.\n",
    "\n",
    "## 1. Creating Strings\n",
    "\n",
    "1.1. **Single or double quotes** (interchangeable). Both define the same string type [1-2]:"
   ]
  },
  {
   "cell_type": "code",
   "execution_count": null,
   "id": "85974478",
   "metadata": {},
   "outputs": [
    {
     "name": "stdout",
     "output_type": "stream",
     "text": [
      "Hello\n",
      "World\n"
     ]
    }
   ],
   "source": [
    "# For example:\n",
    "print('Hello')\n",
    "print(\"World\")"
   ]
  },
  {
   "cell_type": "markdown",
   "id": "5ab5a0a7",
   "metadata": {},
   "source": [
    "1.2. **Triple quotes** (`'''...'''` or `\"\"\"...\"\"\"`) for multi-line strings [1, 3]:"
   ]
  },
  {
   "cell_type": "code",
   "execution_count": 2,
   "id": "ec17b55b",
   "metadata": {},
   "outputs": [
    {
     "name": "stdout",
     "output_type": "stream",
     "text": [
      "The sword of destiny has two edges.\n",
      "You are one of them.\n",
      "― Andrzej Sapkowski\n"
     ]
    },
    {
     "data": {
      "text/plain": [
       "'The sword of destiny has two edges.\\nYou are one of them.\\n― Andrzej Sapkowski'"
      ]
     },
     "execution_count": 2,
     "metadata": {},
     "output_type": "execute_result"
    }
   ],
   "source": [
    "# For example:\n",
    "\n",
    "# Output from Python\n",
    "print(\"\"\"The sword of destiny has two edges.\n",
    "You are one of them.\n",
    "― Andrzej Sapkowski\"\"\")\n",
    "\n",
    "# Output from Jupyter Notebook\n",
    "\"\"\"The sword of destiny has two edges.\n",
    "You are one of them.\n",
    "― Andrzej Sapkowski\"\"\""
   ]
  },
  {
   "cell_type": "code",
   "execution_count": 3,
   "id": "3b6bd8ec",
   "metadata": {},
   "outputs": [
    {
     "name": "stdout",
     "output_type": "stream",
     "text": [
      "The sword of destiny has two edges.\n",
      "You are one of them.\n",
      "― Andrzej Sapkowski\n"
     ]
    }
   ],
   "source": [
    "# Equivalent single-line string, \n",
    "# using the special character for new lines: \\n\n",
    "print('The sword of destiny has two edges.\\nYou are one of them.\\n― Andrzej Sapkowski')"
   ]
  },
  {
   "cell_type": "markdown",
   "id": "d8d41ded",
   "metadata": {},
   "source": [
    "1.3. **Raw strings** (prefix `r`): backslashes are taken literally (great for regex, file paths) [4].\n"
   ]
  },
  {
   "cell_type": "code",
   "execution_count": 4,
   "id": "8c9cfb0c",
   "metadata": {},
   "outputs": [
    {
     "name": "stdout",
     "output_type": "stream",
     "text": [
      "C:\\Users\\Name\n"
     ]
    },
    {
     "data": {
      "text/plain": [
       "'C:\\\\Users\\\\Name'"
      ]
     },
     "execution_count": 4,
     "metadata": {},
     "output_type": "execute_result"
    }
   ],
   "source": [
    "# For example:\n",
    "\n",
    "# Output from Python\n",
    "print(r\"C:\\Users\\Name\")\n",
    "\n",
    "# Output from Jupyter Notebook\n",
    "r\"C:\\Users\\Name\""
   ]
  },
  {
   "cell_type": "markdown",
   "id": "8dfadedf",
   "metadata": {},
   "source": [
    "## 2. Access & Manipulate\n",
    "\n",
    "2.1. **Indexing** (zero-based) and **negative indexing** (from end) [1, 5]:"
   ]
  },
  {
   "cell_type": "code",
   "execution_count": 5,
   "id": "0dcca764",
   "metadata": {},
   "outputs": [
    {
     "name": "stdout",
     "output_type": "stream",
     "text": [
      "P\n",
      "n\n"
     ]
    }
   ],
   "source": [
    "# For example:\n",
    "print(\"Python\"[0])\n",
    "print(\"Python\"[-1])"
   ]
  },
  {
   "cell_type": "markdown",
   "id": "7b296168",
   "metadata": {},
   "source": [
    "2.2. **Length** [6-7]:"
   ]
  },
  {
   "cell_type": "code",
   "execution_count": 6,
   "id": "4b9e2ced",
   "metadata": {},
   "outputs": [
    {
     "name": "stdout",
     "output_type": "stream",
     "text": [
      "6\n"
     ]
    },
    {
     "data": {
      "text/plain": [
       "6"
      ]
     },
     "execution_count": 6,
     "metadata": {},
     "output_type": "execute_result"
    }
   ],
   "source": [
    "# For example:\n",
    "\n",
    "# Output from Python\n",
    "print(len(\"Python\"))\n",
    "\n",
    "# Output from Jupyter Notebook\n",
    "len(\"Python\")"
   ]
  },
  {
   "cell_type": "markdown",
   "id": "991aa68c",
   "metadata": {},
   "source": [
    "2.3. **Iteration** [6]:"
   ]
  },
  {
   "cell_type": "code",
   "execution_count": 7,
   "id": "2ab03d50",
   "metadata": {},
   "outputs": [
    {
     "name": "stdout",
     "output_type": "stream",
     "text": [
      "U\n",
      "b\n",
      "u\n",
      "n\n",
      "t\n",
      "u\n"
     ]
    }
   ],
   "source": [
    "# For example:\n",
    "for char in \"Ubuntu\":\n",
    "    print(char)"
   ]
  },
  {
   "cell_type": "markdown",
   "id": "4a7daba7",
   "metadata": {},
   "source": [
    "## 3. Immutability\n",
    "\n",
    "Strings cannot be modified in place. To \"change\" them, build new strings [1,5]:"
   ]
  },
  {
   "cell_type": "code",
   "execution_count": 8,
   "id": "87ea6c28",
   "metadata": {},
   "outputs": [
    {
     "name": "stdout",
     "output_type": "stream",
     "text": [
      "ubuntu\n",
      "Ubuntu\n"
     ]
    }
   ],
   "source": [
    "# For example:\n",
    "c = \"ubuntu\"\n",
    "print(c)\n",
    "# c[0] = 'U'  # TypeError!\n",
    "c = \"U\" + c[1:]\n",
    "print(c)\n"
   ]
  },
  {
   "cell_type": "markdown",
   "id": "32e9da7c",
   "metadata": {},
   "source": [
    "## 5. Common Operations & Methods\n",
    "\n",
    "5.1 **Concatenation** using `+` [8]:"
   ]
  },
  {
   "cell_type": "code",
   "execution_count": 9,
   "id": "580043d5",
   "metadata": {},
   "outputs": [
    {
     "name": "stdout",
     "output_type": "stream",
     "text": [
      "My name is Eduardo\n"
     ]
    }
   ],
   "source": [
    "# For example:\n",
    "print(\"My name is \" + \"Eduardo\")"
   ]
  },
  {
   "cell_type": "markdown",
   "id": "09b28c7f",
   "metadata": {},
   "source": [
    "5.2 **Membership tests** [5-6]:"
   ]
  },
  {
   "cell_type": "code",
   "execution_count": 10,
   "id": "45eed983",
   "metadata": {},
   "outputs": [
    {
     "name": "stdout",
     "output_type": "stream",
     "text": [
      "False\n",
      "True\n"
     ]
    }
   ],
   "source": [
    "# Example 1:\n",
    "print(\"ubuntu\" in \"Ubuntu is a free operating system\")\n",
    "\n",
    "# Example 2:\n",
    "print(\"x\" not in \"Ubuntu is a free operating system\")"
   ]
  },
  {
   "cell_type": "markdown",
   "id": "58c7a9f4",
   "metadata": {},
   "source": [
    "5.3 **Useful methods** [9-12]:\n",
    "\n",
    "  * `upper()`, `lower()` – change case\n",
    "  * `capitalize()`, `title()` – capitalization styles\n",
    "  * `strip()` – remove whitespace\n",
    "  * `split()`, `join()` – break and join strings\n",
    "  * `replace()`, `find()`, `count()`, `startswith()`, `endswith()` – search & modify"
   ]
  },
  {
   "cell_type": "code",
   "execution_count": 11,
   "id": "25d9f449",
   "metadata": {},
   "outputs": [
    {
     "name": "stdout",
     "output_type": "stream",
     "text": [
      "HELLO\n",
      "Apple Pie\n",
      "text\n",
      "['a', 'b', 'c']\n",
      "a-b-c\n"
     ]
    }
   ],
   "source": [
    "# Examples:\n",
    "print(\"Hello\".upper())         # \"HELLO\"\n",
    "print(\"apple pie\".title())     # \"Apple Pie\"\n",
    "print(\" text \".strip())        # \"text\"\n",
    "print(\"a,b,c\".split(\",\"))      # [\"a\",\"b\",\"c\"]\n",
    "print(\"-\".join([\"a\",\"b\",\"c\"])) # \"a-b-c\""
   ]
  },
  {
   "cell_type": "markdown",
   "id": "bc65618a",
   "metadata": {},
   "source": [
    "5.4 **Chaining methods** [10]:"
   ]
  },
  {
   "cell_type": "code",
   "execution_count": 12,
   "id": "2c33bd60",
   "metadata": {},
   "outputs": [
    {
     "data": {
      "text/plain": [
       "['Ubuntu', 'Is', 'The', 'Best', 'Operating', 'System']"
      ]
     },
     "execution_count": 12,
     "metadata": {},
     "output_type": "execute_result"
    }
   ],
   "source": [
    "# For example:\n",
    "text = \"Ubuntu is a free operating system\"\n",
    "\n",
    "# Output from Jupyter Notebook\n",
    "text.replace(\"a free\", \"the best\").title().split()"
   ]
  },
  {
   "cell_type": "code",
   "execution_count": 13,
   "id": "61b36fea",
   "metadata": {},
   "outputs": [
    {
     "name": "stdout",
     "output_type": "stream",
     "text": [
      "Ubuntu is a free operating system\n"
     ]
    }
   ],
   "source": [
    "# Output from Python\n",
    "print(text)"
   ]
  },
  {
   "cell_type": "code",
   "execution_count": 14,
   "id": "57161825",
   "metadata": {},
   "outputs": [
    {
     "name": "stdout",
     "output_type": "stream",
     "text": [
      "['Ubuntu', 'Is', 'The', 'Best', 'Operating', 'System']\n"
     ]
    }
   ],
   "source": [
    "# Output from Python\n",
    "new_text = text.replace(\"a free\", \"the best\").title().split()\n",
    "print(new_text)"
   ]
  },
  {
   "cell_type": "code",
   "execution_count": 15,
   "id": "3131f9b0",
   "metadata": {},
   "outputs": [
    {
     "name": "stdout",
     "output_type": "stream",
     "text": [
      "<class 'list'>\n",
      "<class 'str'>\n"
     ]
    }
   ],
   "source": [
    "# Output from Python\n",
    "print(type(new_text))\n",
    "print(type(text))"
   ]
  },
  {
   "cell_type": "markdown",
   "id": "981a5b83",
   "metadata": {},
   "source": [
    "## 6. Formatted Strings\n",
    "\n",
    "6.1 **`format()` method** [4]:"
   ]
  },
  {
   "cell_type": "code",
   "execution_count": 16,
   "id": "1d070006",
   "metadata": {},
   "outputs": [
    {
     "name": "stdout",
     "output_type": "stream",
     "text": [
      "Score: 95%\n"
     ]
    }
   ],
   "source": [
    "# For example:\n",
    "score = 95\n",
    "print(\"Score: {}%\".format(score))"
   ]
  },
  {
   "cell_type": "markdown",
   "id": "9830c938",
   "metadata": {},
   "source": [
    "6.2 **F-strings** (Python 3.6+) [13]:\n"
   ]
  },
  {
   "cell_type": "code",
   "execution_count": 17,
   "id": "bb0ce08e",
   "metadata": {},
   "outputs": [
    {
     "name": "stdout",
     "output_type": "stream",
     "text": [
      "I scored 95 out of 100%\n"
     ]
    }
   ],
   "source": [
    "# For example:\n",
    "max_score = 100\n",
    "print(f\"I scored {score} out of {max_score}%\")"
   ]
  },
  {
   "cell_type": "markdown",
   "id": "184f7756",
   "metadata": {},
   "source": [
    "## 7. Empty String\n",
    "\n",
    "An empty string (`\"\"` or `''`) has length zero and acts as the identity in concatenation operations [14]."
   ]
  },
  {
   "cell_type": "code",
   "execution_count": 18,
   "id": "0dc4d119",
   "metadata": {},
   "outputs": [
    {
     "name": "stdout",
     "output_type": "stream",
     "text": [
      "0\n",
      "JupyterNotebook\n"
     ]
    }
   ],
   "source": [
    "empty_str = \"\"\n",
    "print(len(empty_str)) # 0\n",
    "print(\"Jupyter\" + empty_str + \"Notebook\")"
   ]
  },
  {
   "cell_type": "markdown",
   "id": "2502f3dc",
   "metadata": {},
   "source": [
    "## References\n",
    "1. [\"Python String - GeeksforGeeks\"](https://www.geeksforgeeks.org/python/python-string)\n",
    "2. [\"Python Strings | Python Education | Google for Developers\"](https://developers.google.com/edu/python/strings)\n",
    "3. [\"Introduction to Python Strings - Simplilearn.com\"](https://www.simplilearn.com/tutorials/python-tutorial/python-strings)\n",
    "4. [\"Python syntax and semantics\"](https://en.wikipedia.org/wiki/Python_syntax_and_semantics)\n",
    "5. [\"Python Strings (With Examples) - Programiz\"](https://www.programiz.com/python-programming/string)\n",
    "6. [\"Python Strings - W3Schools\"](https://www.w3schools.com/python/python_strings.asp)\n",
    "7. [\"Python Strings - Stanford Computer Science\"](https://cs.stanford.edu/people/nick/py/python-string.html)\n",
    "8. [\"Python (programming language)\"](https://en.wikipedia.org/wiki/Python_%28programming_language%29)\n",
    "9. [\"Introduction to Strings in Python | by Rany ElHousieny | The Startup\"](https://ranyel.medium.com/introduction-to-strings-in-python-18caf6e02152)\n",
    "10. [\"An Overview of Python String Methods | LearnPython.com\"](https://learnpython.com/blog/python-string-methods/)\n",
    "11. [\"Learn Python 3: Strings Cheatsheet | Codecademy\"](https://www.codecademy.com/learn/learn-python-3/modules/learn-python3-strings/cheatsheet)\n",
    "12. [\"Python Strings: Essential Tips & Tricks | Learn Python Today - Mimo\"](https://mimo.org/glossary/python/string)\n",
    "13. [\"String interpolation\"](https://en.wikipedia.org/wiki/String_interpolation)\n",
    "14. [\"Empty string\"](https://en.wikipedia.org/wiki/Empty_string)"
   ]
  }
 ],
 "metadata": {
  "kernelspec": {
   "display_name": "Python 3",
   "language": "python",
   "name": "python3"
  },
  "language_info": {
   "codemirror_mode": {
    "name": "ipython",
    "version": 3
   },
   "file_extension": ".py",
   "mimetype": "text/x-python",
   "name": "python",
   "nbconvert_exporter": "python",
   "pygments_lexer": "ipython3",
   "version": "3.10.12"
  }
 },
 "nbformat": 4,
 "nbformat_minor": 5
}
