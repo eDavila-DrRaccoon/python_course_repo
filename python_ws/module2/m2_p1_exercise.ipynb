{
 "cells": [
  {
   "cell_type": "markdown",
   "id": "431da757",
   "metadata": {},
   "source": [
    "# Module 2. Part 1. `print()` function\n",
    "\n",
    "## Exercises"
   ]
  },
  {
   "cell_type": "markdown",
   "id": "8a5b2f42",
   "metadata": {},
   "source": [
    "1. Create a code cell that prints your name (ex. Eduardo Dávila)."
   ]
  },
  {
   "cell_type": "code",
   "execution_count": null,
   "id": "5ec63aee",
   "metadata": {},
   "outputs": [],
   "source": [
    "# Here your code:\n"
   ]
  },
  {
   "cell_type": "markdown",
   "id": "55845c2f",
   "metadata": {},
   "source": [
    "2. Create a code cell that prints your student registration number (ex. `A0XXXXXX`)."
   ]
  },
  {
   "cell_type": "code",
   "execution_count": 2,
   "id": "4f481d36",
   "metadata": {},
   "outputs": [],
   "source": [
    "# Here your code:\n"
   ]
  },
  {
   "cell_type": "markdown",
   "id": "9902a681",
   "metadata": {},
   "source": [
    "3. Create a code cell that prints the expression: `I like the \"Python\" programming course`."
   ]
  },
  {
   "cell_type": "code",
   "execution_count": 3,
   "id": "9972d267",
   "metadata": {},
   "outputs": [],
   "source": [
    "# Here your code:\n"
   ]
  },
  {
   "cell_type": "markdown",
   "id": "a54df3f2",
   "metadata": {},
   "source": [
    "4. Create a code cell that prints the number `555`, but as a result of an arithmetic expression."
   ]
  },
  {
   "cell_type": "code",
   "execution_count": 4,
   "id": "db1f8ae6",
   "metadata": {},
   "outputs": [],
   "source": [
    "# Here your code:\n"
   ]
  },
  {
   "cell_type": "markdown",
   "id": "117b67b9",
   "metadata": {},
   "source": [
    "5. Create a code cell that prints the result of the expression: `5 ** 2 * 2 + 5`, but along with that expression in a formatted message."
   ]
  },
  {
   "cell_type": "code",
   "execution_count": 5,
   "id": "e674807c",
   "metadata": {},
   "outputs": [],
   "source": [
    "# Here your code:\n"
   ]
  }
 ],
 "metadata": {
  "kernelspec": {
   "display_name": "Python 3",
   "language": "python",
   "name": "python3"
  },
  "language_info": {
   "codemirror_mode": {
    "name": "ipython",
    "version": 3
   },
   "file_extension": ".py",
   "mimetype": "text/x-python",
   "name": "python",
   "nbconvert_exporter": "python",
   "pygments_lexer": "ipython3",
   "version": "3.10.12"
  }
 },
 "nbformat": 4,
 "nbformat_minor": 5
}
