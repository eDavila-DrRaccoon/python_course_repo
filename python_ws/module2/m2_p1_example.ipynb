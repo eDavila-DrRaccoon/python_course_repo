{
 "cells": [
  {
   "cell_type": "markdown",
   "id": "431da757",
   "metadata": {},
   "source": [
    "# Module 2. Part 1. `print()` function\n",
    "\n",
    "## Definition\n",
    "```python\n",
    "(function) def print(\n",
    "    *values: object,\n",
    "    sep: str | None = \" \",\n",
    "    end: str | None = \"\\n\",\n",
    "    file: SupportsWrite[str] | None = None,\n",
    "    flush: Literal[False] = False\n",
    ") -> None\n",
    "```\n",
    "The `print()` function outputs values to a stream (by default, `sys.stdout`).\n",
    "\n",
    "**Optional keyword arguments:**\n",
    "\n",
    "* **`sep`** (`str`, default `\" \"`): String inserted between values.\n",
    "* **`end`** (`str`, default `\"\\n\"`): String appended after the last value.\n",
    "* **`file`** (file-like object, default `sys.stdout`): Destination stream where the output is written.\n",
    "* **`flush`** (`bool`, default `False`): If `True`, forces the stream to be flushed immediately."
   ]
  },
  {
   "cell_type": "markdown",
   "id": "292a4d06",
   "metadata": {},
   "source": [
    "## Examples of usage\n",
    "1. This function prints a text to the console"
   ]
  },
  {
   "cell_type": "code",
   "execution_count": null,
   "id": "017d2042",
   "metadata": {},
   "outputs": [],
   "source": [
    "# For example:\n",
    "print(\"Hello, World!\")"
   ]
  },
  {
   "cell_type": "markdown",
   "id": "da1a6122",
   "metadata": {},
   "source": [
    "2. We can use single quotes or double quotes interchangeably."
   ]
  },
  {
   "cell_type": "code",
   "execution_count": null,
   "id": "a90a59f0",
   "metadata": {},
   "outputs": [],
   "source": [
    "# For example:\n",
    "print('Hi, this is \"Eduardo\" from the Python Course!')\n",
    "print(\"Hi, this is 'Eduardo' from the Python Course!\")"
   ]
  },
  {
   "cell_type": "markdown",
   "id": "d5e326c1",
   "metadata": {},
   "source": [
    "&nbsp;&nbsp;&nbsp;&nbsp;Even, to include both double and single quotes, we can use escape characters (special characters) by using backslashes (`\\`).\n"
   ]
  },
  {
   "cell_type": "code",
   "execution_count": null,
   "id": "5a2af772",
   "metadata": {},
   "outputs": [],
   "source": [
    "print(\"Hi, this is \\\"Eduardo\\\" from the Python Course!\")\n",
    "print('This isn\\'t just any course!')"
   ]
  },
  {
   "cell_type": "markdown",
   "id": "f118d4e0",
   "metadata": {},
   "source": [
    "3. We can also print numbers"
   ]
  },
  {
   "cell_type": "code",
   "execution_count": null,
   "id": "4f2fa526",
   "metadata": {},
   "outputs": [],
   "source": [
    "# For example:\n",
    "print(1994)\n",
    "print(3.14159)"
   ]
  },
  {
   "cell_type": "markdown",
   "id": "283e7d6b",
   "metadata": {},
   "source": [
    "4. We can also perform arithmetic operations and print the result along with the expression \n",
    "(`print()` can take multiple arguments separated by commas)."
   ]
  },
  {
   "cell_type": "code",
   "execution_count": null,
   "id": "72104c50",
   "metadata": {},
   "outputs": [],
   "source": [
    "# For example:\n",
    "print(\"2 * 10 + 5 =\", 2 * 10 + 5)"
   ]
  },
  {
   "cell_type": "markdown",
   "id": "93a38597",
   "metadata": {},
   "source": [
    "5. We can also print formatted messages"
   ]
  },
  {
   "cell_type": "code",
   "execution_count": null,
   "id": "4c8498ea",
   "metadata": {},
   "outputs": [],
   "source": [
    "# For example:\n",
    "print(f\"100 / 5 - 5 = {100 / 5 - 5}\")"
   ]
  }
 ],
 "metadata": {
  "kernelspec": {
   "display_name": "Python 3",
   "language": "python",
   "name": "python3"
  },
  "language_info": {
   "codemirror_mode": {
    "name": "ipython",
    "version": 3
   },
   "file_extension": ".py",
   "mimetype": "text/x-python",
   "name": "python",
   "nbconvert_exporter": "python",
   "pygments_lexer": "ipython3",
   "version": "3.10.12"
  }
 },
 "nbformat": 4,
 "nbformat_minor": 5
}
